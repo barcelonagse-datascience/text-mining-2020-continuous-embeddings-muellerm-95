{
 "cells": [
  {
   "cell_type": "markdown",
   "metadata": {},
   "source": [
    "# Assignment 3: Word2Vec\n",
    "\n",
    "In this assignment, we will see how we can use Word2Vec (or any similar word embedding) to use information from unlabelled data to help us classify better!\n",
    "\n",
    "You will be using the sentiment data from last week, either the yelps or movies, whichever you wish. \n",
    "\n",
    "Your goal will be to simulate the following situation: you have a **small** set of labelled data and a large set of unlabelled data. Show how the two follow 2 techniques compare as the amount of labelled data increases. You should train them on the small labelled subset and test their performance on the rest of the data. \n",
    "\n",
    "In other words, train on 1k, test on 99k. Then train on 2k, test on 98k. Then train on 4k, test on 96k. Etc.\n",
    "\n",
    "1. Logistic regression trained on labelled data, documents represented as term-frequency matrix of your choice. You can learn the vocabulary from the entire dataset or only the labelled data.\n",
    "\n",
    "2. Logistic regression trained on the labelled data, documents represented as word2vec vectors where you train word2vec using the entire dataset. Play around with different settings of word2vec (training window size, K-negative, skip-gram vs BOW, training windows, etc.). Note: we didn't go over the options in detail in class, so you will need to read about them a bit!\n",
    "\n",
    "You can read about the gensime word2vec implementation [here](https://radimrehurek.com/gensim/models/word2vec.html)."
   ]
  },
  {
   "cell_type": "code",
   "execution_count": 1,
   "metadata": {},
   "outputs": [],
   "source": [
    "import matplotlib.pyplot as plt\n",
    "# copy - pasted from last solutions\n",
    "import re\n",
    "import spacy\n",
    "import seaborn as sns\n",
    "import pandas as pd\n",
    "import numpy as np\n",
    "from nltk.stem.snowball import SnowballStemmer\n",
    "from sklearn.feature_extraction.text import CountVectorizer, TfidfVectorizer\n",
    "from sklearn.model_selection import cross_val_score\n",
    "from sklearn.naive_bayes import MultinomialNB\n",
    "import numpy as np\n",
    "from sklearn.decomposition import PCA\n",
    "import pandas as pd\n",
    "import random\n",
    "from sklearn.linear_model import LogisticRegression\n",
    "from sklearn.model_selection import train_test_split\n",
    "import nltk as nl\n",
    "from gensim.test.utils import common_texts, get_tmpfile\n",
    "from gensim.models import Word2Vec"
   ]
  },
  {
   "cell_type": "code",
   "execution_count": 58,
   "metadata": {},
   "outputs": [],
   "source": [
    "stemmer = SnowballStemmer(\"english\")\n",
    "not_alphanumeric_or_space = re.compile('[^(\\w|\\s|\\d)]')\n",
    "nlp = spacy.load('en_core_web_sm')\n",
    "\n",
    "def preprocess1(doc):\n",
    "    doc = re.sub(not_alphanumeric_or_space, '', doc)\n",
    "    words = [t.lemma_ for t in nlp(doc) if t.lemma_ != '-PRON-']\n",
    "    return ' '.join(words).lower()\n",
    "\n",
    "def preprocess2(doc):\n",
    "    doc = re.sub(not_alphanumeric_or_space, '', doc)\n",
    "    words = [t.lemma_ for t in nlp(doc) if (t.lemma_ != '-PRON-' and t.lemma_!='\\n')]\n",
    "    return words"
   ]
  },
  {
   "cell_type": "code",
   "execution_count": 59,
   "metadata": {},
   "outputs": [],
   "source": [
    "yelps = pd.read_csv('../text-mining-2020-classifying-text-muellerm-95/sentiment/yelps.csv').sample(frac=1.)"
   ]
  },
  {
   "cell_type": "code",
   "execution_count": 60,
   "metadata": {},
   "outputs": [],
   "source": [
    "yelps=yelps.sample(frac=1.)"
   ]
  },
  {
   "cell_type": "code",
   "execution_count": 61,
   "metadata": {},
   "outputs": [
    {
     "data": {
      "text/plain": [
       "(100003, 3)"
      ]
     },
     "execution_count": 61,
     "metadata": {},
     "output_type": "execute_result"
    }
   ],
   "source": [
    "yelps.shape"
   ]
  },
  {
   "cell_type": "code",
   "execution_count": 62,
   "metadata": {},
   "outputs": [
    {
     "name": "stderr",
     "output_type": "stream",
     "text": [
      "/home/maximilian/anaconda2/envs/py36/lib/python3.8/site-packages/sklearn/feature_extraction/text.py:382: UserWarning: Your stop_words may be inconsistent with your preprocessing. Tokenizing the stop words generated tokens ['make'] not in stop_words.\n",
      "  warnings.warn('Your stop_words may be inconsistent with '\n",
      "<ipython-input-62-a26e2d1d85ba>:70: RuntimeWarning: invalid value encountered in true_divide\n",
      "  docvec=docvec/np.linalg.norm(docvec)\n",
      "/home/maximilian/anaconda2/envs/py36/lib/python3.8/site-packages/sklearn/feature_extraction/text.py:382: UserWarning: Your stop_words may be inconsistent with your preprocessing. Tokenizing the stop words generated tokens ['make'] not in stop_words.\n",
      "  warnings.warn('Your stop_words may be inconsistent with '\n",
      "<ipython-input-62-a26e2d1d85ba>:70: RuntimeWarning: invalid value encountered in true_divide\n",
      "  docvec=docvec/np.linalg.norm(docvec)\n",
      "/home/maximilian/anaconda2/envs/py36/lib/python3.8/site-packages/sklearn/feature_extraction/text.py:382: UserWarning: Your stop_words may be inconsistent with your preprocessing. Tokenizing the stop words generated tokens ['make'] not in stop_words.\n",
      "  warnings.warn('Your stop_words may be inconsistent with '\n",
      "<ipython-input-62-a26e2d1d85ba>:70: RuntimeWarning: invalid value encountered in true_divide\n",
      "  docvec=docvec/np.linalg.norm(docvec)\n",
      "/home/maximilian/anaconda2/envs/py36/lib/python3.8/site-packages/sklearn/feature_extraction/text.py:382: UserWarning: Your stop_words may be inconsistent with your preprocessing. Tokenizing the stop words generated tokens ['make'] not in stop_words.\n",
      "  warnings.warn('Your stop_words may be inconsistent with '\n",
      "<ipython-input-62-a26e2d1d85ba>:57: RuntimeWarning: invalid value encountered in true_divide\n",
      "  docvec=docvec/np.linalg.norm(docvec)\n",
      "<ipython-input-62-a26e2d1d85ba>:70: RuntimeWarning: invalid value encountered in true_divide\n",
      "  docvec=docvec/np.linalg.norm(docvec)\n",
      "/home/maximilian/anaconda2/envs/py36/lib/python3.8/site-packages/sklearn/feature_extraction/text.py:382: UserWarning: Your stop_words may be inconsistent with your preprocessing. Tokenizing the stop words generated tokens ['make'] not in stop_words.\n",
      "  warnings.warn('Your stop_words may be inconsistent with '\n",
      "/home/maximilian/anaconda2/envs/py36/lib/python3.8/site-packages/sklearn/linear_model/_logistic.py:938: ConvergenceWarning: lbfgs failed to converge (status=1):\n",
      "STOP: TOTAL NO. of ITERATIONS REACHED LIMIT.\n",
      "\n",
      "Increase the number of iterations (max_iter) or scale the data as shown in:\n",
      "    https://scikit-learn.org/stable/modules/preprocessing.html\n",
      "Please also refer to the documentation for alternative solver options:\n",
      "    https://scikit-learn.org/stable/modules/linear_model.html#logistic-regression\n",
      "  n_iter_i = _check_optimize_result(\n",
      "<ipython-input-62-a26e2d1d85ba>:57: RuntimeWarning: invalid value encountered in true_divide\n",
      "  docvec=docvec/np.linalg.norm(docvec)\n",
      "<ipython-input-62-a26e2d1d85ba>:70: RuntimeWarning: invalid value encountered in true_divide\n",
      "  docvec=docvec/np.linalg.norm(docvec)\n"
     ]
    }
   ],
   "source": [
    "y=np.array(yelps.positive)\n",
    "X=yelps.text.to_list()\n",
    "df=pd.DataFrame(columns=['method','test_size','score'])\n",
    "test_size_range=[0.01,0.02,0.04,0.08,0.15]\n",
    "for test_size in test_size_range:\n",
    "\n",
    "    # train test split\n",
    "    X_train, X_test, y_train, y_test = train_test_split(\n",
    "        X, y, test_size=(1-test_size), random_state=42)\n",
    "    \n",
    "    # initialize vectorizer\n",
    "    vectorizer = TfidfVectorizer(min_df=2,\n",
    "                                 max_df=.8,\n",
    "                                 preprocessor=preprocess1,\n",
    "                                 stop_words='english',\n",
    "                                 use_idf=False,\n",
    "                                 norm=False)\n",
    "    \n",
    "    # transform for vectorizer\n",
    "    X_train1 = vectorizer.fit_transform(X_train)\n",
    "    X_test1 = vectorizer.transform(X_test)\n",
    "\n",
    "    # logistic regr with vectorized data\n",
    "    clf1=LogisticRegression(random_state=0)\n",
    "    clf1.fit(X_train1,y_train)\n",
    "    preds1=clf1.predict(X_test1)\n",
    "    score1=sum(y_test==preds1)/len(preds1)\n",
    "\n",
    "    # append result to df\n",
    "    df=df.append({'method':'vectorizer','test_size':test_size,'score':score1},ignore_index=True)\n",
    "    \n",
    "    # now use word2vec\n",
    "    # first preprocess\n",
    "    X_train2 = [preprocess2(doc) for doc in X_train]\n",
    "    X_test2 = [preprocess2(doc) for doc in X_test]\n",
    "    \n",
    "    # train model on full set\n",
    "    docs=[preprocess2(doc) for doc in X]\n",
    "    model = Word2Vec(docs, min_count=1,size=50)\n",
    "    model.train(docs, total_examples=len(docs), epochs=100)\n",
    "    \n",
    "    # transform train and test set\n",
    "#     X_train2_=np.array([])\n",
    "#     for doc in X_train2:\n",
    "#         X_train2_=np.append(X_train2_,[model.wv.__getitem__(word) for word in doc])\n",
    "#     X_train2=X_train2_.reshape(X_train.shape)\n",
    "    \n",
    "#     X_test2_=np.array([])\n",
    "#     for doc in X_test2:\n",
    "#         X_test2_=np.append(X_test2_,[model.wv.__getitem__(word) for word in doc])\n",
    "#     X_test2=X_test2_.reshape(X_test.shape)\n",
    "    X_train2_=[]\n",
    "    for doc in X_train2:\n",
    "        docvec=np.zeros(shape=(50,))\n",
    "        for word in doc:\n",
    "            docvec+=model.wv.__getitem__(word)\n",
    "        docvec=docvec/np.linalg.norm(docvec)\n",
    "        X_train2_+=[docvec.tolist()]\n",
    "    X_train2=np.asarray(X_train2_)\n",
    "    \n",
    "    col_mean = np.nanmean(X_train2, axis=0)\n",
    "    inds = np.where(np.isnan(X_train2))\n",
    "    X_train2[inds]=np.take(col_mean, inds[1])\n",
    "    \n",
    "    X_test2_=[]\n",
    "    for doc in X_test2:\n",
    "        docvec=np.zeros(shape=(50,))\n",
    "        for word in doc:\n",
    "            docvec+=model.wv.__getitem__(word)\n",
    "        docvec=docvec/np.linalg.norm(docvec)\n",
    "        X_test2_+=[docvec.tolist()]\n",
    "    X_test2=np.asarray(X_test2_)\n",
    "    \n",
    "    col_mean = np.nanmean(X_test2, axis=0)\n",
    "    inds = np.where(np.isnan(X_test2))\n",
    "    X_test2[inds]=np.take(col_mean, inds[1])\n",
    "    #X_train2=np.array([([model.wv.__getitem__(word) for word in doc]) for doc in X_train2])\n",
    "    #X_test2=np.array([([model.wv.__getitem__(word) for word in doc]) for doc in X_test2])\n",
    "\n",
    "    # perform logistic regression\n",
    "    clf2=LogisticRegression(random_state=0)\n",
    "    clf2.fit(X_train2,y_train)\n",
    "    preds2=clf2.predict(X_test2)\n",
    "    score2=sum(y_test==preds2)/len(preds2)\n",
    "    \n",
    "    # append result to df\n",
    "    df=df.append({'method':'word2vec','test_size':test_size,'score':score2},ignore_index=True)"
   ]
  },
  {
   "cell_type": "code",
   "execution_count": 64,
   "metadata": {},
   "outputs": [
    {
     "data": {
      "text/html": [
       "<div>\n",
       "<style scoped>\n",
       "    .dataframe tbody tr th:only-of-type {\n",
       "        vertical-align: middle;\n",
       "    }\n",
       "\n",
       "    .dataframe tbody tr th {\n",
       "        vertical-align: top;\n",
       "    }\n",
       "\n",
       "    .dataframe thead th {\n",
       "        text-align: right;\n",
       "    }\n",
       "</style>\n",
       "<table border=\"1\" class=\"dataframe\">\n",
       "  <thead>\n",
       "    <tr style=\"text-align: right;\">\n",
       "      <th></th>\n",
       "      <th>method</th>\n",
       "      <th>test_size</th>\n",
       "      <th>score</th>\n",
       "    </tr>\n",
       "  </thead>\n",
       "  <tbody>\n",
       "    <tr>\n",
       "      <th>0</th>\n",
       "      <td>vectorizer</td>\n",
       "      <td>0.01</td>\n",
       "      <td>0.897165</td>\n",
       "    </tr>\n",
       "    <tr>\n",
       "      <th>1</th>\n",
       "      <td>word2vec</td>\n",
       "      <td>0.01</td>\n",
       "      <td>0.912094</td>\n",
       "    </tr>\n",
       "    <tr>\n",
       "      <th>2</th>\n",
       "      <td>vectorizer</td>\n",
       "      <td>0.02</td>\n",
       "      <td>0.911074</td>\n",
       "    </tr>\n",
       "    <tr>\n",
       "      <th>3</th>\n",
       "      <td>word2vec</td>\n",
       "      <td>0.02</td>\n",
       "      <td>0.925288</td>\n",
       "    </tr>\n",
       "    <tr>\n",
       "      <th>4</th>\n",
       "      <td>vectorizer</td>\n",
       "      <td>0.04</td>\n",
       "      <td>0.923409</td>\n",
       "    </tr>\n",
       "    <tr>\n",
       "      <th>5</th>\n",
       "      <td>word2vec</td>\n",
       "      <td>0.04</td>\n",
       "      <td>0.931450</td>\n",
       "    </tr>\n",
       "    <tr>\n",
       "      <th>6</th>\n",
       "      <td>vectorizer</td>\n",
       "      <td>0.08</td>\n",
       "      <td>0.934393</td>\n",
       "    </tr>\n",
       "    <tr>\n",
       "      <th>7</th>\n",
       "      <td>word2vec</td>\n",
       "      <td>0.08</td>\n",
       "      <td>0.936230</td>\n",
       "    </tr>\n",
       "    <tr>\n",
       "      <th>8</th>\n",
       "      <td>vectorizer</td>\n",
       "      <td>0.15</td>\n",
       "      <td>0.940567</td>\n",
       "    </tr>\n",
       "    <tr>\n",
       "      <th>9</th>\n",
       "      <td>word2vec</td>\n",
       "      <td>0.15</td>\n",
       "      <td>0.939249</td>\n",
       "    </tr>\n",
       "  </tbody>\n",
       "</table>\n",
       "</div>"
      ],
      "text/plain": [
       "       method  test_size     score\n",
       "0  vectorizer       0.01  0.897165\n",
       "1    word2vec       0.01  0.912094\n",
       "2  vectorizer       0.02  0.911074\n",
       "3    word2vec       0.02  0.925288\n",
       "4  vectorizer       0.04  0.923409\n",
       "5    word2vec       0.04  0.931450\n",
       "6  vectorizer       0.08  0.934393\n",
       "7    word2vec       0.08  0.936230\n",
       "8  vectorizer       0.15  0.940567\n",
       "9    word2vec       0.15  0.939249"
      ]
     },
     "execution_count": 64,
     "metadata": {},
     "output_type": "execute_result"
    }
   ],
   "source": [
    "df"
   ]
  },
  {
   "cell_type": "code",
   "execution_count": 65,
   "metadata": {},
   "outputs": [],
   "source": [
    "vec_df=df[df.method=='vectorizer']\n",
    "word_df=df[df.method=='word2vec']"
   ]
  },
  {
   "cell_type": "code",
   "execution_count": 68,
   "metadata": {},
   "outputs": [
    {
     "data": {
      "text/plain": [
       "<matplotlib.legend.Legend at 0x7fc5f195aa90>"
      ]
     },
     "execution_count": 68,
     "metadata": {},
     "output_type": "execute_result"
    },
    {
     "data": {
      "image/png": "[encoded data removed]",
      "text/plain": [
       "<Figure size 1152x576 with 1 Axes>"
      ]
     },
     "metadata": {
      "needs_background": "light"
     },
     "output_type": "display_data"
    }
   ],
   "source": [
    "plt.figure(figsize=(16,8))\n",
    "plt.plot(vec_df.test_size,vec_df.score,label='vectorizer')\n",
    "plt.plot(word_df.test_size,word_df.score,label='word2vec')\n",
    "plt.title('Score for different embeddings')\n",
    "plt.xlabel('Training set size')\n",
    "plt.ylabel('Score')\n",
    "plt.legend()"
   ]
  }
 ],
 "metadata": {
  "kernelspec": {
   "display_name": "Python 3",
   "language": "python",
   "name": "python3"
  },
  "language_info": {
   "codemirror_mode": {
    "name": "ipython",
    "version": 3
   },
   "file_extension": ".py",
   "mimetype": "text/x-python",
   "name": "python",
   "nbconvert_exporter": "python",
   "pygments_lexer": "ipython3",
   "version": "3.8.0"
  },
  "name": "assignment.ipynb"
 },
 "nbformat": 4,
 "nbformat_minor": 2
}
