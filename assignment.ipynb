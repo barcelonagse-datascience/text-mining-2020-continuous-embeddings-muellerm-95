{
 "cells": [
  {
   "cell_type": "markdown",
   "metadata": {},
   "source": [
    "# Assignment 3: Word2Vec\n",
    "\n",
    "In this assignment, we will see how we can use Word2Vec (or any similar word embedding) to use information from unlabelled data to help us classify better!\n",
    "\n",
    "You will be using the sentiment data from last week, either the yelps or movies, whichever you wish. \n",
    "\n",
    "Your goal will be to simulate the following situation: you have a **small** set of labelled data and a large set of unlabelled data. Show how the two follow 2 techniques compare as the amount of labelled data increases. You should train them on the small labelled subset and test their performance on the rest of the data. \n",
    "\n",
    "In other words, train on 1k, test on 99k. Then train on 2k, test on 98k. Then train on 4k, test on 96k. Etc.\n",
    "\n",
    "1. Logistic regression trained on labelled data, documents represented as term-frequency matrix of your choice. You can learn the vocabulary from the entire dataset or only the labelled data.\n",
    "\n",
    "2. Logistic regression trained on the labelled data, documents represented as word2vec vectors where you train word2vec using the entire dataset. Play around with different settings of word2vec (training window size, K-negative, skip-gram vs BOW, training windows, etc.). Note: we didn't go over the options in detail in class, so you will need to read about them a bit!\n",
    "\n",
    "You can read about the gensime word2vec implementation [here](https://radimrehurek.com/gensim/models/word2vec.html)."
   ]
  },
  {
   "cell_type": "markdown",
   "metadata": {},
   "source": [
    "# Comment\n",
    "There are a few things that confuse me, above all that the vectorizer works better than work2vec. \n",
    "I would have liked to try more combinations, but it really takes ages to run. Perhaps its my machine or inefficient coding, but it unfortunately wasnt feasible."
   ]
  },
  {
   "cell_type": "code",
   "execution_count": 13,
   "metadata": {
    "collapsed": true
   },
   "outputs": [],
   "source": [
    "import matplotlib.pyplot as plt\n",
    "import re\n",
    "import spacy\n",
    "import seaborn as sns\n",
    "import pandas as pd\n",
    "import numpy as np\n",
    "from nltk.stem.snowball import SnowballStemmer\n",
    "from sklearn.feature_extraction.text import CountVectorizer, TfidfVectorizer\n",
    "from sklearn.model_selection import cross_val_score\n",
    "from sklearn.naive_bayes import MultinomialNB\n",
    "import numpy as np\n",
    "from sklearn.decomposition import PCA\n",
    "import pandas as pd\n",
    "import random\n",
    "from sklearn.linear_model import LogisticRegression\n",
    "from sklearn.model_selection import train_test_split\n",
    "import nltk as nl\n",
    "from gensim.test.utils import common_texts, get_tmpfile\n",
    "from gensim.models import Word2Vec"
   ]
  },
  {
   "cell_type": "code",
   "execution_count": 14,
   "metadata": {},
   "outputs": [],
   "source": [
    "stemmer = SnowballStemmer(\"english\")\n",
    "not_alphanumeric_or_space = re.compile('[^(\\w|\\s|\\d)]')\n",
    "nlp = spacy.load('en_core_web_sm')\n",
    "\n",
    "def preprocess1(doc):\n",
    "    doc = re.sub(not_alphanumeric_or_space, '', doc)\n",
    "    words = [t.lemma_ for t in nlp(doc) if t.lemma_ != '-PRON-']\n",
    "    return ' '.join(words).lower()\n",
    "\n",
    "def preprocess2(doc):\n",
    "    doc = re.sub(not_alphanumeric_or_space, '', doc)\n",
    "    words = [t.lemma_ for t in nlp(doc) if (t.lemma_ != '-PRON-' and t.lemma_!='\\n')]\n",
    "    return words"
   ]
  },
  {
   "cell_type": "code",
   "execution_count": 15,
   "metadata": {},
   "outputs": [],
   "source": [
    "yelps = pd.read_csv('../text-mining-2020-classifying-text-muellerm-95/sentiment/yelps.csv').sample(frac=1.)"
   ]
  },
  {
   "cell_type": "code",
   "execution_count": 16,
   "metadata": {},
   "outputs": [],
   "source": [
    "yelps=yelps.sample(frac=1.)"
   ]
  },
  {
   "cell_type": "code",
   "execution_count": 17,
   "metadata": {},
   "outputs": [
    {
     "data": {
      "text/plain": [
       "(100003, 3)"
      ]
     },
     "execution_count": 17,
     "metadata": {},
     "output_type": "execute_result"
    }
   ],
   "source": [
    "yelps.shape"
   ]
  },
  {
   "cell_type": "code",
   "execution_count": null,
   "metadata": {},
   "outputs": [],
   "source": [
    "y=np.array(yelps.positive)\n",
    "X=yelps.text.to_list()\n",
    "docs=[preprocess2(doc) for doc in X]"
   ]
  },
  {
   "cell_type": "code",
   "execution_count": 24,
   "metadata": {},
   "outputs": [
    {
     "data": {
      "text/plain": [
       "(39531973, 55015735)"
      ]
     },
     "execution_count": 24,
     "metadata": {},
     "output_type": "execute_result"
    }
   ],
   "source": [
    "# train model on full set\n",
    "model = Word2Vec(min_count=1,size=50)\n",
    "model.build_vocab(docs)\n",
    "model.train(docs, total_examples=model.corpus_count, epochs=5)"
   ]
  },
  {
   "cell_type": "code",
   "execution_count": 26,
   "metadata": {},
   "outputs": [],
   "source": [
    "import pickle\n",
    "filename = 'w2v.sav'\n",
    "pickle.dump(model, open(filename, 'wb'))"
   ]
  },
  {
   "cell_type": "code",
   "execution_count": 27,
   "metadata": {},
   "outputs": [],
   "source": [
    "filename = 'docs.sav'\n",
    "pickle.dump(docs, open(filename, 'wb'))"
   ]
  },
  {
   "cell_type": "code",
   "execution_count": 43,
   "metadata": {},
   "outputs": [
    {
     "name": "stderr",
     "output_type": "stream",
     "text": [
      "<ipython-input-43-8b8884a123a1>:6: RuntimeWarning: invalid value encountered in true_divide\n",
      "  docvec=docvec/np.linalg.norm(docvec)\n"
     ]
    }
   ],
   "source": [
    "X_w2v=[]\n",
    "for doc in docs:\n",
    "    docvec=np.zeros(shape=(50,))\n",
    "    for word in doc:\n",
    "        docvec+=model.wv[word]\n",
    "    docvec=docvec/np.linalg.norm(docvec)\n",
    "    X_w2v+=[docvec.tolist()]\n",
    "X_w2v=np.asarray(X_w2v)\n",
    "\n",
    "# replace possible nans\n",
    "col_mean = np.nanmean(X_w2v, axis=0)\n",
    "inds = np.where(np.isnan(X_w2v))\n",
    "X_w2v[inds]=np.take(col_mean, inds[1])"
   ]
  },
  {
   "cell_type": "code",
   "execution_count": 45,
   "metadata": {},
   "outputs": [
    {
     "name": "stdout",
     "output_type": "stream",
     "text": [
      "Currently at test size 0.01\n",
      "split done\n",
      "vecotizer done\n",
      "logistic regression 1 done\n",
      "logistic regression 2 done\n",
      "Currently at test size 0.02\n",
      "split done\n"
     ]
    },
    {
     "name": "stderr",
     "output_type": "stream",
     "text": [
      "/home/maximilian/anaconda2/envs/py36/lib/python3.8/site-packages/sklearn/feature_extraction/text.py:382: UserWarning: Your stop_words may be inconsistent with your preprocessing. Tokenizing the stop words generated tokens ['make'] not in stop_words.\n",
      "  warnings.warn('Your stop_words may be inconsistent with '\n"
     ]
    },
    {
     "name": "stdout",
     "output_type": "stream",
     "text": [
      "vecotizer done\n",
      "logistic regression 1 done\n",
      "logistic regression 2 done\n",
      "Currently at test size 0.04\n",
      "split done\n"
     ]
    },
    {
     "name": "stderr",
     "output_type": "stream",
     "text": [
      "/home/maximilian/anaconda2/envs/py36/lib/python3.8/site-packages/sklearn/feature_extraction/text.py:382: UserWarning: Your stop_words may be inconsistent with your preprocessing. Tokenizing the stop words generated tokens ['make'] not in stop_words.\n",
      "  warnings.warn('Your stop_words may be inconsistent with '\n"
     ]
    },
    {
     "name": "stdout",
     "output_type": "stream",
     "text": [
      "vecotizer done\n",
      "logistic regression 1 done\n",
      "logistic regression 2 done\n",
      "Currently at test size 0.08\n",
      "split done\n"
     ]
    },
    {
     "name": "stderr",
     "output_type": "stream",
     "text": [
      "/home/maximilian/anaconda2/envs/py36/lib/python3.8/site-packages/sklearn/feature_extraction/text.py:382: UserWarning: Your stop_words may be inconsistent with your preprocessing. Tokenizing the stop words generated tokens ['make'] not in stop_words.\n",
      "  warnings.warn('Your stop_words may be inconsistent with '\n"
     ]
    },
    {
     "name": "stdout",
     "output_type": "stream",
     "text": [
      "vecotizer done\n",
      "logistic regression 1 done\n",
      "logistic regression 2 done\n",
      "Currently at test size 0.16\n",
      "split done\n"
     ]
    },
    {
     "name": "stderr",
     "output_type": "stream",
     "text": [
      "/home/maximilian/anaconda2/envs/py36/lib/python3.8/site-packages/sklearn/feature_extraction/text.py:382: UserWarning: Your stop_words may be inconsistent with your preprocessing. Tokenizing the stop words generated tokens ['make'] not in stop_words.\n",
      "  warnings.warn('Your stop_words may be inconsistent with '\n"
     ]
    },
    {
     "name": "stdout",
     "output_type": "stream",
     "text": [
      "vecotizer done\n"
     ]
    },
    {
     "name": "stderr",
     "output_type": "stream",
     "text": [
      "/home/maximilian/anaconda2/envs/py36/lib/python3.8/site-packages/sklearn/linear_model/_logistic.py:938: ConvergenceWarning: lbfgs failed to converge (status=1):\n",
      "STOP: TOTAL NO. of ITERATIONS REACHED LIMIT.\n",
      "\n",
      "Increase the number of iterations (max_iter) or scale the data as shown in:\n",
      "    https://scikit-learn.org/stable/modules/preprocessing.html\n",
      "Please also refer to the documentation for alternative solver options:\n",
      "    https://scikit-learn.org/stable/modules/linear_model.html#logistic-regression\n",
      "  n_iter_i = _check_optimize_result(\n"
     ]
    },
    {
     "name": "stdout",
     "output_type": "stream",
     "text": [
      "logistic regression 1 done\n",
      "logistic regression 2 done\n"
     ]
    },
    {
     "data": {
      "text/plain": [
       "<matplotlib.legend.Legend at 0x7f1873cf7610>"
      ]
     },
     "execution_count": 45,
     "metadata": {},
     "output_type": "execute_result"
    },
    {
     "data": {
      "image/png": "[encoded data removed]",
      "text/plain": [
       "<Figure size 1152x576 with 1 Axes>"
      ]
     },
     "metadata": {
      "needs_background": "light"
     },
     "output_type": "display_data"
    }
   ],
   "source": [
    "# try cbow and window size 5\n",
    "df=pd.DataFrame(columns=['method','test_size','score'])\n",
    "test_size_range=[0.01,0.02,0.04,0.08,0.16]\n",
    "for test_size in test_size_range:\n",
    "    print('Currently at test size {}'.format(test_size))\n",
    "\n",
    "    # train test split\n",
    "    X_train, X_test, y_train, y_test = train_test_split(\n",
    "        docs, y, test_size=(1-test_size), random_state=42)\n",
    "    \n",
    "    X_train2, X_test2, y_train2, y_test2 = train_test_split(\n",
    "        X_w2v, y, test_size=(1-test_size), random_state=42)\n",
    "    \n",
    "    print('split done')\n",
    "    \n",
    "    # initialize vectorizer\n",
    "    vectorizer = TfidfVectorizer(min_df=2,\n",
    "                                 max_df=.8,\n",
    "                                 preprocessor=preprocess1,\n",
    "                                 stop_words='english',\n",
    "                                 use_idf=False,\n",
    "                                 norm=False)\n",
    "    \n",
    "    # transform for vectorizer\n",
    "    X_train1 = vectorizer.fit_transform([' '.join(doc) for doc in X_train])\n",
    "    X_test1 = vectorizer.transform([' '.join(doc) for doc in X_test])\n",
    "\n",
    "    print('vectorizer done')\n",
    "    \n",
    "    # logistic regr with vectorized data\n",
    "    clf1=LogisticRegression(random_state=0)\n",
    "    clf1.fit(X_train1,y_train)\n",
    "    preds1=clf1.predict(X_test1)\n",
    "    score1=sum(y_test==preds1)/len(preds1)\n",
    "    \n",
    "    print('logistic regression 1 done')\n",
    "\n",
    "    # append result to df\n",
    "    df=df.append({'method':'vectorizer','test_size':test_size,'score':score1},ignore_index=True)\n",
    "\n",
    "    # perform logistic regression\n",
    "    clf2=LogisticRegression(random_state=0)\n",
    "    clf2.fit(X_train2,y_train2)\n",
    "    preds2=clf2.predict(X_test2)\n",
    "    score2=sum(y_test2==preds2)/len(preds2)\n",
    "    \n",
    "    print('logistic regression 2 done')\n",
    "    \n",
    "    # append result to df\n",
    "    df=df.append({'method':'word2vec','test_size':test_size,'score':score2},ignore_index=True)\n",
    "\n",
    "vec_df=df[df.method=='vectorizer']\n",
    "word_df=df[df.method=='word2vec']\n",
    "\n",
    "plt.figure(figsize=(16,8))\n",
    "plt.plot(vec_df.test_size,vec_df.score,label='vectorizer')\n",
    "plt.plot(word_df.test_size,word_df.score,label='word2vec')\n",
    "plt.title('Score for different embeddings')\n",
    "plt.xlabel('Training set size')\n",
    "plt.ylabel('Score')\n",
    "plt.legend()"
   ]
  },
  {
   "cell_type": "code",
   "execution_count": 47,
   "metadata": {},
   "outputs": [
    {
     "name": "stderr",
     "output_type": "stream",
     "text": [
      "<ipython-input-47-d8b008afd221>:11: RuntimeWarning: invalid value encountered in true_divide\n",
      "  docvec=docvec/np.linalg.norm(docvec)\n"
     ]
    }
   ],
   "source": [
    "# train model on full set\n",
    "model2 = Word2Vec(min_count=1,size=50,window=5,sg=0)\n",
    "model2.build_vocab(docs)\n",
    "model2.train(docs, total_examples=model.corpus_count, epochs=5)\n",
    "\n",
    "X_w2v2=[]\n",
    "for doc in docs:\n",
    "    docvec=np.zeros(shape=(50,))\n",
    "    for word in doc:\n",
    "        docvec+=model2.wv[word]\n",
    "    docvec=docvec/np.linalg.norm(docvec)\n",
    "    X_w2v2+=[docvec.tolist()]\n",
    "X_w2v2=np.asarray(X_w2v2)\n",
    "\n",
    "# replace possible nans\n",
    "col_mean2 = np.nanmean(X_w2v2, axis=0)\n",
    "inds = np.where(np.isnan(X_w2v2))\n",
    "X_w2v2[inds]=np.take(col_mean2, inds[1])"
   ]
  },
  {
   "cell_type": "code",
   "execution_count": 48,
   "metadata": {
    "scrolled": false
   },
   "outputs": [
    {
     "name": "stdout",
     "output_type": "stream",
     "text": [
      "Currently at test size 0.01\n",
      "split done\n"
     ]
    },
    {
     "name": "stderr",
     "output_type": "stream",
     "text": [
      "/home/maximilian/anaconda2/envs/py36/lib/python3.8/site-packages/sklearn/feature_extraction/text.py:382: UserWarning: Your stop_words may be inconsistent with your preprocessing. Tokenizing the stop words generated tokens ['make'] not in stop_words.\n",
      "  warnings.warn('Your stop_words may be inconsistent with '\n"
     ]
    },
    {
     "name": "stdout",
     "output_type": "stream",
     "text": [
      "vectorizer done\n",
      "logistic regression 1 done\n",
      "logistic regression 2 done\n",
      "Currently at test size 0.02\n",
      "split done\n"
     ]
    },
    {
     "name": "stderr",
     "output_type": "stream",
     "text": [
      "/home/maximilian/anaconda2/envs/py36/lib/python3.8/site-packages/sklearn/feature_extraction/text.py:382: UserWarning: Your stop_words may be inconsistent with your preprocessing. Tokenizing the stop words generated tokens ['make'] not in stop_words.\n",
      "  warnings.warn('Your stop_words may be inconsistent with '\n"
     ]
    },
    {
     "name": "stdout",
     "output_type": "stream",
     "text": [
      "vectorizer done\n",
      "logistic regression 1 done\n",
      "logistic regression 2 done\n",
      "Currently at test size 0.04\n",
      "split done\n"
     ]
    },
    {
     "name": "stderr",
     "output_type": "stream",
     "text": [
      "/home/maximilian/anaconda2/envs/py36/lib/python3.8/site-packages/sklearn/feature_extraction/text.py:382: UserWarning: Your stop_words may be inconsistent with your preprocessing. Tokenizing the stop words generated tokens ['make'] not in stop_words.\n",
      "  warnings.warn('Your stop_words may be inconsistent with '\n"
     ]
    },
    {
     "name": "stdout",
     "output_type": "stream",
     "text": [
      "vectorizer done\n",
      "logistic regression 1 done\n",
      "logistic regression 2 done\n",
      "Currently at test size 0.16\n",
      "split done\n"
     ]
    },
    {
     "name": "stderr",
     "output_type": "stream",
     "text": [
      "/home/maximilian/anaconda2/envs/py36/lib/python3.8/site-packages/sklearn/feature_extraction/text.py:382: UserWarning: Your stop_words may be inconsistent with your preprocessing. Tokenizing the stop words generated tokens ['make'] not in stop_words.\n",
      "  warnings.warn('Your stop_words may be inconsistent with '\n"
     ]
    },
    {
     "name": "stdout",
     "output_type": "stream",
     "text": [
      "vectorizer done\n"
     ]
    },
    {
     "name": "stderr",
     "output_type": "stream",
     "text": [
      "/home/maximilian/anaconda2/envs/py36/lib/python3.8/site-packages/sklearn/linear_model/_logistic.py:938: ConvergenceWarning: lbfgs failed to converge (status=1):\n",
      "STOP: TOTAL NO. of ITERATIONS REACHED LIMIT.\n",
      "\n",
      "Increase the number of iterations (max_iter) or scale the data as shown in:\n",
      "    https://scikit-learn.org/stable/modules/preprocessing.html\n",
      "Please also refer to the documentation for alternative solver options:\n",
      "    https://scikit-learn.org/stable/modules/linear_model.html#logistic-regression\n",
      "  n_iter_i = _check_optimize_result(\n"
     ]
    },
    {
     "name": "stdout",
     "output_type": "stream",
     "text": [
      "logistic regression 1 done\n",
      "logistic regression 2 done\n"
     ]
    },
    {
     "data": {
      "text/plain": [
       "<matplotlib.legend.Legend at 0x7f17da323580>"
      ]
     },
     "execution_count": 48,
     "metadata": {},
     "output_type": "execute_result"
    },
    {
     "data": {
      "image/png": "[encoded data removed]",
      "text/plain": [
       "<Figure size 1152x576 with 1 Axes>"
      ]
     },
     "metadata": {
      "needs_background": "light"
     },
     "output_type": "display_data"
    }
   ],
   "source": [
    "# try cbow and window size 5\n",
    "df=pd.DataFrame(columns=['method','test_size','score'])\n",
    "test_size_range=[0.01,0.02,0.04,0.16]\n",
    "for test_size in test_size_range:\n",
    "    print('Currently at test size {}'.format(test_size))\n",
    "\n",
    "    # train test split\n",
    "    X_train, X_test, y_train, y_test = train_test_split(\n",
    "        docs, y, test_size=(1-test_size), random_state=42)\n",
    "    \n",
    "    X_train2, X_test2, y_train2, y_test2 = train_test_split(\n",
    "        X_w2v2, y, test_size=(1-test_size), random_state=42)\n",
    "    \n",
    "    print('split done')\n",
    "    \n",
    "    # initialize vectorizer\n",
    "    vectorizer = TfidfVectorizer(min_df=2,\n",
    "                                 max_df=.8,\n",
    "                                 preprocessor=preprocess1,\n",
    "                                 stop_words='english',\n",
    "                                 use_idf=False,\n",
    "                                 norm=False)\n",
    "    \n",
    "    # transform for vectorizer\n",
    "    X_train1 = vectorizer.fit_transform([' '.join(doc) for doc in X_train])\n",
    "    X_test1 = vectorizer.transform([' '.join(doc) for doc in X_test])\n",
    "\n",
    "    print('vectorizer done')\n",
    "    \n",
    "    # logistic regr with vectorized data\n",
    "    clf1=LogisticRegression(random_state=0)\n",
    "    clf1.fit(X_train1,y_train)\n",
    "    preds1=clf1.predict(X_test1)\n",
    "    score1=sum(y_test==preds1)/len(preds1)\n",
    "    \n",
    "    print('logistic regression 1 done')\n",
    "\n",
    "    # append result to df\n",
    "    df=df.append({'method':'vectorizer','test_size':test_size,'score':score1},ignore_index=True)\n",
    "\n",
    "    # perform logistic regression\n",
    "    clf2=LogisticRegression(random_state=0)\n",
    "    clf2.fit(X_train2,y_train2)\n",
    "    preds2=clf2.predict(X_test2)\n",
    "    score2=sum(y_test2==preds2)/len(preds2)\n",
    "    \n",
    "    print('logistic regression 2 done')\n",
    "    \n",
    "    # append result to df\n",
    "    df=df.append({'method':'word2vec','test_size':test_size,'score':score2},ignore_index=True)\n",
    "\n",
    "vec_df=df[df.method=='vectorizer']\n",
    "word_df=df[df.method=='word2vec']\n",
    "\n",
    "plt.figure(figsize=(16,8))\n",
    "plt.plot(vec_df.test_size,vec_df.score,label='vectorizer')\n",
    "plt.plot(word_df.test_size,word_df.score,label='word2vec')\n",
    "plt.title('Score for different embeddings')\n",
    "plt.xlabel('Training set size')\n",
    "plt.ylabel('Score')\n",
    "plt.legend()"
   ]
  },
  {
   "cell_type": "code",
   "execution_count": 49,
   "metadata": {},
   "outputs": [
    {
     "name": "stderr",
     "output_type": "stream",
     "text": [
      "<ipython-input-49-a29019c190cb>:12: RuntimeWarning: invalid value encountered in true_divide\n",
      "  docvec=docvec/np.linalg.norm(docvec)\n"
     ]
    }
   ],
   "source": [
    "# try skip-gram and window size 10\n",
    "# train model on full set\n",
    "model3 = Word2Vec(min_count=1,size=50,window=10,sg=1)\n",
    "model3.build_vocab(docs)\n",
    "model3.train(docs, total_examples=model.corpus_count, epochs=5)\n",
    "\n",
    "X_w2v3=[]\n",
    "for doc in docs:\n",
    "    docvec=np.zeros(shape=(50,))\n",
    "    for word in doc:\n",
    "        docvec+=model3.wv[word]\n",
    "    docvec=docvec/np.linalg.norm(docvec)\n",
    "    X_w2v3+=[docvec.tolist()]\n",
    "X_w2v3=np.asarray(X_w2v3)\n",
    "\n",
    "# replace possible nans\n",
    "col_mean3 = np.nanmean(X_w2v3, axis=0)\n",
    "inds = np.where(np.isnan(X_w2v3))\n",
    "X_w2v3[inds]=np.take(col_mean3, inds[1])"
   ]
  },
  {
   "cell_type": "code",
   "execution_count": null,
   "metadata": {},
   "outputs": [
    {
     "name": "stdout",
     "output_type": "stream",
     "text": [
      "Currently at test size 0.01\n",
      "split done\n"
     ]
    },
    {
     "name": "stderr",
     "output_type": "stream",
     "text": [
      "/home/maximilian/anaconda2/envs/py36/lib/python3.8/site-packages/sklearn/feature_extraction/text.py:382: UserWarning: Your stop_words may be inconsistent with your preprocessing. Tokenizing the stop words generated tokens ['make'] not in stop_words.\n",
      "  warnings.warn('Your stop_words may be inconsistent with '\n"
     ]
    },
    {
     "name": "stdout",
     "output_type": "stream",
     "text": [
      "vectorizer done\n",
      "logistic regression 1 done\n",
      "logistic regression 2 done\n",
      "Currently at test size 0.02\n",
      "split done\n"
     ]
    },
    {
     "name": "stderr",
     "output_type": "stream",
     "text": [
      "/home/maximilian/anaconda2/envs/py36/lib/python3.8/site-packages/sklearn/feature_extraction/text.py:382: UserWarning: Your stop_words may be inconsistent with your preprocessing. Tokenizing the stop words generated tokens ['make'] not in stop_words.\n",
      "  warnings.warn('Your stop_words may be inconsistent with '\n"
     ]
    },
    {
     "name": "stdout",
     "output_type": "stream",
     "text": [
      "vectorizer done\n",
      "logistic regression 1 done\n",
      "logistic regression 2 done\n",
      "Currently at test size 0.04\n",
      "split done\n"
     ]
    },
    {
     "name": "stderr",
     "output_type": "stream",
     "text": [
      "/home/maximilian/anaconda2/envs/py36/lib/python3.8/site-packages/sklearn/feature_extraction/text.py:382: UserWarning: Your stop_words may be inconsistent with your preprocessing. Tokenizing the stop words generated tokens ['make'] not in stop_words.\n",
      "  warnings.warn('Your stop_words may be inconsistent with '\n"
     ]
    }
   ],
   "source": [
    "df=pd.DataFrame(columns=['method','test_size','score'])\n",
    "test_size_range=[0.01,0.02,0.04,0.16]\n",
    "for test_size in test_size_range:\n",
    "    print('Currently at test size {}'.format(test_size))\n",
    "\n",
    "    # train test split\n",
    "    X_train, X_test, y_train, y_test = train_test_split(\n",
    "        docs, y, test_size=(1-test_size), random_state=42)\n",
    "    \n",
    "    X_train2, X_test2, y_train2, y_test2 = train_test_split(\n",
    "        X_w2v3, y, test_size=(1-test_size), random_state=42)\n",
    "    \n",
    "    print('split done')\n",
    "    \n",
    "    # initialize vectorizer\n",
    "    vectorizer = TfidfVectorizer(min_df=2,\n",
    "                                 max_df=.8,\n",
    "                                 preprocessor=preprocess1,\n",
    "                                 stop_words='english',\n",
    "                                 use_idf=False,\n",
    "                                 norm=False)\n",
    "    \n",
    "    # transform for vectorizer\n",
    "    X_train1 = vectorizer.fit_transform([' '.join(doc) for doc in X_train])\n",
    "    X_test1 = vectorizer.transform([' '.join(doc) for doc in X_test])\n",
    "\n",
    "    print('vectorizer done')\n",
    "    \n",
    "    # logistic regr with vectorized data\n",
    "    clf1=LogisticRegression(random_state=0)\n",
    "    clf1.fit(X_train1,y_train)\n",
    "    preds1=clf1.predict(X_test1)\n",
    "    score1=sum(y_test==preds1)/len(preds1)\n",
    "    \n",
    "    print('logistic regression 1 done')\n",
    "\n",
    "    # append result to df\n",
    "    df=df.append({'method':'vectorizer','test_size':test_size,'score':score1},ignore_index=True)\n",
    "\n",
    "    # perform logistic regression\n",
    "    clf2=LogisticRegression(random_state=0)\n",
    "    clf2.fit(X_train2,y_train2)\n",
    "    preds2=clf2.predict(X_test2)\n",
    "    score2=sum(y_test2==preds2)/len(preds2)\n",
    "    \n",
    "    print('logistic regression 2 done')\n",
    "    \n",
    "    # append result to df\n",
    "    df=df.append({'method':'word2vec','test_size':test_size,'score':score2},ignore_index=True)\n",
    "\n",
    "vec_df=df[df.method=='vectorizer']\n",
    "word_df=df[df.method=='word2vec']\n",
    "\n",
    "plt.figure(figsize=(16,8))\n",
    "plt.plot(vec_df.test_size,vec_df.score,label='vectorizer')\n",
    "plt.plot(word_df.test_size,word_df.score,label='word2vec')\n",
    "plt.title('Score for different embeddings')\n",
    "plt.xlabel('Training set size')\n",
    "plt.ylabel('Score')\n",
    "plt.legend()"
   ]
  },
  {
   "cell_type": "code",
   "execution_count": null,
   "metadata": {},
   "outputs": [],
   "source": [
    "# try skip-gram and window size 5, add negative sampling\n",
    "model4 = Word2Vec(docs, min_count=1,size=50,window=5,sg=1,ng=1)\n",
    "model4.build_vocab(docs)\n",
    "model4.train(docs, total_examples=model.corpus_count, epochs=5)\n",
    "\n",
    "X_w2v4=[]\n",
    "for doc in docs:\n",
    "    docvec=np.zeros(shape=(50,))\n",
    "    for word in doc:\n",
    "        docvec+=model4.wv[word]\n",
    "    docvec=docvec/np.linalg.norm(docvec)\n",
    "    X_w2v4+=[docvec.tolist()]\n",
    "X_w2v4=np.asarray(X_w2v4)\n",
    "\n",
    "# replace possible nans\n",
    "col_mean4 = np.nanmean(X_w2v4, axis=0)\n",
    "inds = np.where(np.isnan(X_w2v4))\n",
    "X_w2v4[inds]=np.take(col_mean4, inds[1])"
   ]
  },
  {
   "cell_type": "code",
   "execution_count": null,
   "metadata": {},
   "outputs": [],
   "source": [
    "# try skip-gram and window size 5, add negative sampling\n",
    "df=pd.DataFrame(columns=['method','test_size','score'])\n",
    "test_size_range=[0.01,0.02,0.04,0.16]\n",
    "for test_size in test_size_range:\n",
    "    print('Currently at test size {}'.format(test_size))\n",
    "\n",
    "    # train test split\n",
    "    X_train, X_test, y_train, y_test = train_test_split(\n",
    "        docs, y, test_size=(1-test_size), random_state=42)\n",
    "    \n",
    "    X_train2, X_test2, y_train2, y_test2 = train_test_split(\n",
    "        X_w2v4, y, test_size=(1-test_size), random_state=42)\n",
    "    \n",
    "    print('split done')\n",
    "    \n",
    "    # initialize vectorizer\n",
    "    vectorizer = TfidfVectorizer(min_df=2,\n",
    "                                 max_df=.8,\n",
    "                                 preprocessor=preprocess1,\n",
    "                                 stop_words='english',\n",
    "                                 use_idf=False,\n",
    "                                 norm=False)\n",
    "    \n",
    "    # transform for vectorizer\n",
    "    X_train1 = vectorizer.fit_transform([' '.join(doc) for doc in X_train])\n",
    "    X_test1 = vectorizer.transform([' '.join(doc) for doc in X_test])\n",
    "\n",
    "    print('vectorizer done')\n",
    "    \n",
    "    # logistic regr with vectorized data\n",
    "    clf1=LogisticRegression(random_state=0)\n",
    "    clf1.fit(X_train1,y_train)\n",
    "    preds1=clf1.predict(X_test1)\n",
    "    score1=sum(y_test==preds1)/len(preds1)\n",
    "    \n",
    "    print('logistic regression 1 done')\n",
    "\n",
    "    # append result to df\n",
    "    df=df.append({'method':'vectorizer','test_size':test_size,'score':score1},ignore_index=True)\n",
    "\n",
    "    # perform logistic regression\n",
    "    clf2=LogisticRegression(random_state=0)\n",
    "    clf2.fit(X_train2,y_train2)\n",
    "    preds2=clf2.predict(X_test2)\n",
    "    score2=sum(y_test2==preds2)/len(preds2)\n",
    "    \n",
    "    print('logistic regression 2 done')\n",
    "    \n",
    "    # append result to df\n",
    "    df=df.append({'method':'word2vec','test_size':test_size,'score':score2},ignore_index=True)\n",
    "\n",
    "vec_df=df[df.method=='vectorizer']\n",
    "word_df=df[df.method=='word2vec']\n",
    "\n",
    "plt.figure(figsize=(16,8))\n",
    "plt.plot(vec_df.test_size,vec_df.score,label='vectorizer')\n",
    "plt.plot(word_df.test_size,word_df.score,label='word2vec')\n",
    "plt.title('Score for different embeddings')\n",
    "plt.xlabel('Training set size')\n",
    "plt.ylabel('Score')\n",
    "plt.legend()"
   ]
  }
 ],
 "metadata": {
  "kernelspec": {
   "display_name": "Python 3",
   "language": "python",
   "name": "python3"
  },
  "language_info": {
   "codemirror_mode": {
    "name": "ipython",
    "version": 3
   },
   "file_extension": ".py",
   "mimetype": "text/x-python",
   "name": "python",
   "nbconvert_exporter": "python",
   "pygments_lexer": "ipython3",
   "version": "3.8.0"
  },
  "name": "assignment.ipynb"
 },
 "nbformat": 4,
 "nbformat_minor": 2
}
